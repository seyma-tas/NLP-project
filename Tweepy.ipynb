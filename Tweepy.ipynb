{
 "cells": [
  {
   "cell_type": "markdown",
   "metadata": {
    "ExecuteTime": {
     "end_time": "2021-01-06T04:43:24.991192Z",
     "start_time": "2021-01-06T04:43:24.982598Z"
    }
   },
   "source": [
    "## Getting the tweets about Doordash, Grabhub, and Instacart"
   ]
  },
  {
   "cell_type": "markdown",
   "metadata": {
    "ExecuteTime": {
     "end_time": "2021-01-06T04:45:02.004100Z",
     "start_time": "2021-01-06T04:45:01.999990Z"
    }
   },
   "source": [
    "### Importing necessary libraries"
   ]
  },
  {
   "cell_type": "code",
   "execution_count": 2,
   "metadata": {
    "ExecuteTime": {
     "end_time": "2021-01-06T04:41:56.972454Z",
     "start_time": "2021-01-06T04:41:56.048155Z"
    }
   },
   "outputs": [],
   "source": [
    "import tweepy \n",
    "import pandas as pd"
   ]
  },
  {
   "cell_type": "markdown",
   "metadata": {},
   "source": [
    "Defining Keys and Getting Authorization"
   ]
  },
  {
   "cell_type": "code",
   "execution_count": 3,
   "metadata": {
    "ExecuteTime": {
     "end_time": "2021-01-06T04:41:56.978210Z",
     "start_time": "2021-01-06T04:41:56.974480Z"
    }
   },
   "outputs": [],
   "source": [
    "consumer_key = \"hFo7uidEXrsvNCqaJ1laud3Xg\"\n",
    "consumer_secret = \"NfxOl27cmg5YxnM6uNnZJN6Vj0KGNWmVHj2Rni2UZReFWh7l6T\"\n",
    "access_token = \"1302221214186864642-jeuybxKiPpi3kgVuu9EX4GOkBxNGXj\"\n",
    "access_token_secret = \"0AjPF2zG125GEJqZaW9s28uWFOrGmWTDv659koM2nvjqJ\"\n",
    "auth = tweepy.OAuthHandler(consumer_key, consumer_secret)\n",
    "auth.set_access_token(access_token, access_token_secret)\n",
    "api = tweepy.API(auth,wait_on_rate_limit=True)"
   ]
  },
  {
   "cell_type": "code",
   "execution_count": 4,
   "metadata": {
    "ExecuteTime": {
     "end_time": "2021-01-06T04:41:59.271678Z",
     "start_time": "2021-01-06T04:41:56.979882Z"
    }
   },
   "outputs": [],
   "source": [
    "username = 'Instacart'\n",
    "count = 50\n",
    "try:     \n",
    " # Creation of query method using parameters\n",
    "    tweets = tweepy.Cursor(api.user_timeline,id=username).items(count)\n",
    " \n",
    " # Pulling information from tweets iterable object\n",
    "    tweets_list = [[tweet.created_at, tweet.id, tweet.text] for tweet in tweets]\n",
    " \n",
    " # Creation of dataframe from tweets list\n",
    " # Add or remove columns as you remove tweet information\n",
    "    tweets_df = pd.DataFrame(tweets_list)\n",
    "except BaseException as e:\n",
    "    print('failed on_status,',str(e))\n",
    "    time.sleep(3)\n"
   ]
  },
  {
   "cell_type": "code",
   "execution_count": 5,
   "metadata": {
    "ExecuteTime": {
     "end_time": "2021-01-06T04:41:59.292980Z",
     "start_time": "2021-01-06T04:41:59.273887Z"
    }
   },
   "outputs": [
    {
     "data": {
      "text/html": [
       "<div>\n",
       "<style scoped>\n",
       "    .dataframe tbody tr th:only-of-type {\n",
       "        vertical-align: middle;\n",
       "    }\n",
       "\n",
       "    .dataframe tbody tr th {\n",
       "        vertical-align: top;\n",
       "    }\n",
       "\n",
       "    .dataframe thead th {\n",
       "        text-align: right;\n",
       "    }\n",
       "</style>\n",
       "<table border=\"1\" class=\"dataframe\">\n",
       "  <thead>\n",
       "    <tr style=\"text-align: right;\">\n",
       "      <th></th>\n",
       "      <th>0</th>\n",
       "      <th>1</th>\n",
       "      <th>2</th>\n",
       "    </tr>\n",
       "  </thead>\n",
       "  <tbody>\n",
       "    <tr>\n",
       "      <td>0</td>\n",
       "      <td>2021-01-06 04:29:24</td>\n",
       "      <td>1346675207113732105</td>\n",
       "      <td>@bballchick Wow, time fries! We’re here to cha...</td>\n",
       "    </tr>\n",
       "    <tr>\n",
       "      <td>1</td>\n",
       "      <td>2021-01-06 04:26:13</td>\n",
       "      <td>1346674409294200832</td>\n",
       "      <td>@donaho_ Wow, time fries! We’re here to chat f...</td>\n",
       "    </tr>\n",
       "    <tr>\n",
       "      <td>2</td>\n",
       "      <td>2021-01-06 04:23:07</td>\n",
       "      <td>1346673625726906375</td>\n",
       "      <td>@bballchick Wow, time fries! We’re here to cha...</td>\n",
       "    </tr>\n",
       "    <tr>\n",
       "      <td>3</td>\n",
       "      <td>2021-01-06 03:57:16</td>\n",
       "      <td>1346667124060778496</td>\n",
       "      <td>@Bella_Mommie Wow, time fries! We’re here to c...</td>\n",
       "    </tr>\n",
       "    <tr>\n",
       "      <td>4</td>\n",
       "      <td>2021-01-06 03:52:06</td>\n",
       "      <td>1346665820525645824</td>\n",
       "      <td>@briromz Wow, time fries! We’re here to chat f...</td>\n",
       "    </tr>\n",
       "    <tr>\n",
       "      <td>...</td>\n",
       "      <td>...</td>\n",
       "      <td>...</td>\n",
       "      <td>...</td>\n",
       "    </tr>\n",
       "    <tr>\n",
       "      <td>145</td>\n",
       "      <td>2021-01-04 14:12:01</td>\n",
       "      <td>1346097055392010240</td>\n",
       "      <td>@SchwiftyEmmyyy Thank you for your kind words....</td>\n",
       "    </tr>\n",
       "    <tr>\n",
       "      <td>146</td>\n",
       "      <td>2021-01-04 13:52:29</td>\n",
       "      <td>1346092138182881286</td>\n",
       "      <td>@gr0mak Thank you so much for reaching out! We...</td>\n",
       "    </tr>\n",
       "    <tr>\n",
       "      <td>147</td>\n",
       "      <td>2021-01-04 13:24:09</td>\n",
       "      <td>1346085007983521793</td>\n",
       "      <td>@Heatherrrr11 Woohoo! 🎉 Congrats and thank you...</td>\n",
       "    </tr>\n",
       "    <tr>\n",
       "      <td>148</td>\n",
       "      <td>2021-01-04 13:21:16</td>\n",
       "      <td>1346084280674496514</td>\n",
       "      <td>@1Mamalyn Hi there! Lettuce look into this for...</td>\n",
       "    </tr>\n",
       "    <tr>\n",
       "      <td>149</td>\n",
       "      <td>2021-01-04 13:18:22</td>\n",
       "      <td>1346083550966276097</td>\n",
       "      <td>@ohhsojenuine Hi there! We ap-peach-iate 🍑  yo...</td>\n",
       "    </tr>\n",
       "  </tbody>\n",
       "</table>\n",
       "<p>150 rows × 3 columns</p>\n",
       "</div>"
      ],
      "text/plain": [
       "                      0                    1  \\\n",
       "0   2021-01-06 04:29:24  1346675207113732105   \n",
       "1   2021-01-06 04:26:13  1346674409294200832   \n",
       "2   2021-01-06 04:23:07  1346673625726906375   \n",
       "3   2021-01-06 03:57:16  1346667124060778496   \n",
       "4   2021-01-06 03:52:06  1346665820525645824   \n",
       "..                  ...                  ...   \n",
       "145 2021-01-04 14:12:01  1346097055392010240   \n",
       "146 2021-01-04 13:52:29  1346092138182881286   \n",
       "147 2021-01-04 13:24:09  1346085007983521793   \n",
       "148 2021-01-04 13:21:16  1346084280674496514   \n",
       "149 2021-01-04 13:18:22  1346083550966276097   \n",
       "\n",
       "                                                     2  \n",
       "0    @bballchick Wow, time fries! We’re here to cha...  \n",
       "1    @donaho_ Wow, time fries! We’re here to chat f...  \n",
       "2    @bballchick Wow, time fries! We’re here to cha...  \n",
       "3    @Bella_Mommie Wow, time fries! We’re here to c...  \n",
       "4    @briromz Wow, time fries! We’re here to chat f...  \n",
       "..                                                 ...  \n",
       "145  @SchwiftyEmmyyy Thank you for your kind words....  \n",
       "146  @gr0mak Thank you so much for reaching out! We...  \n",
       "147  @Heatherrrr11 Woohoo! 🎉 Congrats and thank you...  \n",
       "148  @1Mamalyn Hi there! Lettuce look into this for...  \n",
       "149  @ohhsojenuine Hi there! We ap-peach-iate 🍑  yo...  \n",
       "\n",
       "[150 rows x 3 columns]"
      ]
     },
     "execution_count": 5,
     "metadata": {},
     "output_type": "execute_result"
    }
   ],
   "source": [
    "tweets_df"
   ]
  },
  {
   "cell_type": "code",
   "execution_count": 6,
   "metadata": {
    "ExecuteTime": {
     "end_time": "2021-01-06T04:42:03.014699Z",
     "start_time": "2021-01-06T04:41:59.294796Z"
    }
   },
   "outputs": [],
   "source": [
    "text_query = 'Doordash'\n",
    "count = 50\n",
    "try:\n",
    " # Creation of query method using parameters\n",
    "    tweets = tweepy.Cursor(api.search,q=text_query).items(count)\n",
    " \n",
    " # Pulling information from tweets iterable object\n",
    "    tweets_list_Dooddash = [[tweet.created_at, tweet.id, tweet.text] for tweet in tweets]\n",
    " \n",
    " # Creation of dataframe from tweets list\n",
    " # Add or remove columns as you remove tweet information\n",
    "    tweets_list_Doordash = pd.DataFrame(tweets_list)\n",
    "except BaseException as e:\n",
    "    print('failed on_status,',str(e))\n",
    "    time.sleep(3)"
   ]
  },
  {
   "cell_type": "code",
   "execution_count": 8,
   "metadata": {
    "ExecuteTime": {
     "end_time": "2021-01-06T04:42:23.839150Z",
     "start_time": "2021-01-06T04:42:23.829063Z"
    }
   },
   "outputs": [
    {
     "data": {
      "text/html": [
       "<div>\n",
       "<style scoped>\n",
       "    .dataframe tbody tr th:only-of-type {\n",
       "        vertical-align: middle;\n",
       "    }\n",
       "\n",
       "    .dataframe tbody tr th {\n",
       "        vertical-align: top;\n",
       "    }\n",
       "\n",
       "    .dataframe thead th {\n",
       "        text-align: right;\n",
       "    }\n",
       "</style>\n",
       "<table border=\"1\" class=\"dataframe\">\n",
       "  <thead>\n",
       "    <tr style=\"text-align: right;\">\n",
       "      <th></th>\n",
       "      <th>0</th>\n",
       "      <th>1</th>\n",
       "      <th>2</th>\n",
       "    </tr>\n",
       "  </thead>\n",
       "  <tbody>\n",
       "    <tr>\n",
       "      <td>0</td>\n",
       "      <td>2021-01-06 04:29:24</td>\n",
       "      <td>1346675207113732105</td>\n",
       "      <td>@bballchick Wow, time fries! We’re here to cha...</td>\n",
       "    </tr>\n",
       "    <tr>\n",
       "      <td>1</td>\n",
       "      <td>2021-01-06 04:26:13</td>\n",
       "      <td>1346674409294200832</td>\n",
       "      <td>@donaho_ Wow, time fries! We’re here to chat f...</td>\n",
       "    </tr>\n",
       "    <tr>\n",
       "      <td>2</td>\n",
       "      <td>2021-01-06 04:23:07</td>\n",
       "      <td>1346673625726906375</td>\n",
       "      <td>@bballchick Wow, time fries! We’re here to cha...</td>\n",
       "    </tr>\n",
       "    <tr>\n",
       "      <td>3</td>\n",
       "      <td>2021-01-06 03:57:16</td>\n",
       "      <td>1346667124060778496</td>\n",
       "      <td>@Bella_Mommie Wow, time fries! We’re here to c...</td>\n",
       "    </tr>\n",
       "    <tr>\n",
       "      <td>4</td>\n",
       "      <td>2021-01-06 03:52:06</td>\n",
       "      <td>1346665820525645824</td>\n",
       "      <td>@briromz Wow, time fries! We’re here to chat f...</td>\n",
       "    </tr>\n",
       "    <tr>\n",
       "      <td>...</td>\n",
       "      <td>...</td>\n",
       "      <td>...</td>\n",
       "      <td>...</td>\n",
       "    </tr>\n",
       "    <tr>\n",
       "      <td>145</td>\n",
       "      <td>2021-01-04 14:12:01</td>\n",
       "      <td>1346097055392010240</td>\n",
       "      <td>@SchwiftyEmmyyy Thank you for your kind words....</td>\n",
       "    </tr>\n",
       "    <tr>\n",
       "      <td>146</td>\n",
       "      <td>2021-01-04 13:52:29</td>\n",
       "      <td>1346092138182881286</td>\n",
       "      <td>@gr0mak Thank you so much for reaching out! We...</td>\n",
       "    </tr>\n",
       "    <tr>\n",
       "      <td>147</td>\n",
       "      <td>2021-01-04 13:24:09</td>\n",
       "      <td>1346085007983521793</td>\n",
       "      <td>@Heatherrrr11 Woohoo! 🎉 Congrats and thank you...</td>\n",
       "    </tr>\n",
       "    <tr>\n",
       "      <td>148</td>\n",
       "      <td>2021-01-04 13:21:16</td>\n",
       "      <td>1346084280674496514</td>\n",
       "      <td>@1Mamalyn Hi there! Lettuce look into this for...</td>\n",
       "    </tr>\n",
       "    <tr>\n",
       "      <td>149</td>\n",
       "      <td>2021-01-04 13:18:22</td>\n",
       "      <td>1346083550966276097</td>\n",
       "      <td>@ohhsojenuine Hi there! We ap-peach-iate 🍑  yo...</td>\n",
       "    </tr>\n",
       "  </tbody>\n",
       "</table>\n",
       "<p>150 rows × 3 columns</p>\n",
       "</div>"
      ],
      "text/plain": [
       "                      0                    1  \\\n",
       "0   2021-01-06 04:29:24  1346675207113732105   \n",
       "1   2021-01-06 04:26:13  1346674409294200832   \n",
       "2   2021-01-06 04:23:07  1346673625726906375   \n",
       "3   2021-01-06 03:57:16  1346667124060778496   \n",
       "4   2021-01-06 03:52:06  1346665820525645824   \n",
       "..                  ...                  ...   \n",
       "145 2021-01-04 14:12:01  1346097055392010240   \n",
       "146 2021-01-04 13:52:29  1346092138182881286   \n",
       "147 2021-01-04 13:24:09  1346085007983521793   \n",
       "148 2021-01-04 13:21:16  1346084280674496514   \n",
       "149 2021-01-04 13:18:22  1346083550966276097   \n",
       "\n",
       "                                                     2  \n",
       "0    @bballchick Wow, time fries! We’re here to cha...  \n",
       "1    @donaho_ Wow, time fries! We’re here to chat f...  \n",
       "2    @bballchick Wow, time fries! We’re here to cha...  \n",
       "3    @Bella_Mommie Wow, time fries! We’re here to c...  \n",
       "4    @briromz Wow, time fries! We’re here to chat f...  \n",
       "..                                                 ...  \n",
       "145  @SchwiftyEmmyyy Thank you for your kind words....  \n",
       "146  @gr0mak Thank you so much for reaching out! We...  \n",
       "147  @Heatherrrr11 Woohoo! 🎉 Congrats and thank you...  \n",
       "148  @1Mamalyn Hi there! Lettuce look into this for...  \n",
       "149  @ohhsojenuine Hi there! We ap-peach-iate 🍑  yo...  \n",
       "\n",
       "[150 rows x 3 columns]"
      ]
     },
     "execution_count": 8,
     "metadata": {},
     "output_type": "execute_result"
    }
   ],
   "source": [
    "tweets_list_Doordash"
   ]
  },
  {
   "cell_type": "code",
   "execution_count": null,
   "metadata": {
    "ExecuteTime": {
     "end_time": "2021-01-06T04:42:03.181480Z",
     "start_time": "2021-01-06T04:41:53.474Z"
    }
   },
   "outputs": [],
   "source": [
    "text_query = 'Instacart'\n",
    "count = 50\n",
    "try:\n",
    " # Creation of query method using parameters\n",
    "    tweets = tweepy.Cursor(api.search,q=text_query).items(count)\n",
    " \n",
    " # Pulling information from tweets iterable object\n",
    "    tweets_list_Instacart = [[tweet.created_at, tweet.id, tweet.text] for tweet in tweets]\n",
    " \n",
    " # Creation of dataframe from tweets list\n",
    " # Add or remove columns as you remove tweet information\n",
    "    tweets_list_Instacart = pd.DataFrame(tweets_list)\n",
    "except BaseException as e:\n",
    "    print('failed on_status,',str(e))\n",
    "    time.sleep(3)"
   ]
  },
  {
   "cell_type": "code",
   "execution_count": null,
   "metadata": {
    "ExecuteTime": {
     "end_time": "2021-01-06T04:42:03.183140Z",
     "start_time": "2021-01-06T04:41:53.476Z"
    }
   },
   "outputs": [],
   "source": [
    "tweets_list_Instacart"
   ]
  }
 ],
 "metadata": {
  "kernelspec": {
   "display_name": "Python 3",
   "language": "python",
   "name": "python3"
  },
  "language_info": {
   "codemirror_mode": {
    "name": "ipython",
    "version": 3
   },
   "file_extension": ".py",
   "mimetype": "text/x-python",
   "name": "python",
   "nbconvert_exporter": "python",
   "pygments_lexer": "ipython3",
   "version": "3.7.4"
  },
  "toc": {
   "base_numbering": 1,
   "nav_menu": {},
   "number_sections": true,
   "sideBar": true,
   "skip_h1_title": false,
   "title_cell": "Table of Contents",
   "title_sidebar": "Contents",
   "toc_cell": false,
   "toc_position": {},
   "toc_section_display": true,
   "toc_window_display": false
  },
  "varInspector": {
   "cols": {
    "lenName": 16,
    "lenType": 16,
    "lenVar": 40
   },
   "kernels_config": {
    "python": {
     "delete_cmd_postfix": "",
     "delete_cmd_prefix": "del ",
     "library": "var_list.py",
     "varRefreshCmd": "print(var_dic_list())"
    },
    "r": {
     "delete_cmd_postfix": ") ",
     "delete_cmd_prefix": "rm(",
     "library": "var_list.r",
     "varRefreshCmd": "cat(var_dic_list()) "
    }
   },
   "types_to_exclude": [
    "module",
    "function",
    "builtin_function_or_method",
    "instance",
    "_Feature"
   ],
   "window_display": true
  }
 },
 "nbformat": 4,
 "nbformat_minor": 2
}
