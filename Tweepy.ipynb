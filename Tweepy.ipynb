{
 "cells": [
  {
   "cell_type": "code",
   "execution_count": 2,
   "metadata": {},
   "outputs": [
    {
     "name": "stdout",
     "output_type": "stream",
     "text": [
      "Collecting tweepy\n",
      "  Downloading https://files.pythonhosted.org/packages/67/c3/6bed87f3b1e5ed2f34bd58bf7978e308c86e255193916be76e5a5ce5dfca/tweepy-3.10.0-py2.py3-none-any.whl\n",
      "Requirement already satisfied: six>=1.10.0 in /opt/anaconda3/lib/python3.7/site-packages (from tweepy) (1.12.0)\n",
      "Requirement already satisfied: requests[socks]>=2.11.1 in /opt/anaconda3/lib/python3.7/site-packages (from tweepy) (2.22.0)\n",
      "Requirement already satisfied: requests-oauthlib>=0.7.0 in /opt/anaconda3/lib/python3.7/site-packages (from tweepy) (1.3.0)\n",
      "Requirement already satisfied: idna<2.9,>=2.5 in /opt/anaconda3/lib/python3.7/site-packages (from requests[socks]>=2.11.1->tweepy) (2.8)\n",
      "Requirement already satisfied: certifi>=2017.4.17 in /opt/anaconda3/lib/python3.7/site-packages (from requests[socks]>=2.11.1->tweepy) (2019.9.11)\n",
      "Requirement already satisfied: chardet<3.1.0,>=3.0.2 in /opt/anaconda3/lib/python3.7/site-packages (from requests[socks]>=2.11.1->tweepy) (3.0.4)\n",
      "Requirement already satisfied: urllib3!=1.25.0,!=1.25.1,<1.26,>=1.21.1 in /opt/anaconda3/lib/python3.7/site-packages (from requests[socks]>=2.11.1->tweepy) (1.24.2)\n",
      "Requirement already satisfied: PySocks!=1.5.7,>=1.5.6; extra == \"socks\" in /opt/anaconda3/lib/python3.7/site-packages (from requests[socks]>=2.11.1->tweepy) (1.7.1)\n",
      "Requirement already satisfied: oauthlib>=3.0.0 in /opt/anaconda3/lib/python3.7/site-packages (from requests-oauthlib>=0.7.0->tweepy) (3.1.0)\n",
      "Installing collected packages: tweepy\n",
      "Successfully installed tweepy-3.10.0\n",
      "Note: you may need to restart the kernel to use updated packages.\n"
     ]
    }
   ],
   "source": [
    "pip install tweepy"
   ]
  },
  {
   "cell_type": "code",
   "execution_count": 5,
   "metadata": {
    "ExecuteTime": {
     "end_time": "2021-01-06T02:26:08.706855Z",
     "start_time": "2021-01-06T02:26:08.031163Z"
    }
   },
   "outputs": [],
   "source": [
    "import tweepy \n",
    "import pandas as pd"
   ]
  },
  {
   "cell_type": "code",
   "execution_count": 3,
   "metadata": {
    "ExecuteTime": {
     "end_time": "2021-01-06T02:23:37.478043Z",
     "start_time": "2021-01-06T02:23:37.469592Z"
    }
   },
   "outputs": [],
   "source": [
    "consumer_key = \"hFo7uidEXrsvNCqaJ1laud3Xg\"\n",
    "consumer_secret = \"NfxOl27cmg5YxnM6uNnZJN6Vj0KGNWmVHj2Rni2UZReFWh7l6T\"\n",
    "access_token = \"1302221214186864642-jeuybxKiPpi3kgVuu9EX4GOkBxNGXj\"\n",
    "access_token_secret = \"0AjPF2zG125GEJqZaW9s28uWFOrGmWTDv659koM2nvjqJ\"\n",
    "auth = tweepy.OAuthHandler(consumer_key, consumer_secret)\n",
    "auth.set_access_token(access_token, access_token_secret)\n",
    "api = tweepy.API(auth,wait_on_rate_limit=True)"
   ]
  },
  {
   "cell_type": "code",
   "execution_count": 13,
   "metadata": {
    "ExecuteTime": {
     "end_time": "2021-01-06T02:59:12.584798Z",
     "start_time": "2021-01-06T02:59:09.745475Z"
    }
   },
   "outputs": [],
   "source": [
    "username = 'Instacart'\n",
    "count = 150\n",
    "try:     \n",
    " # Creation of query method using parameters\n",
    "    tweets = tweepy.Cursor(api.user_timeline,id=username).items(count)\n",
    " \n",
    " # Pulling information from tweets iterable object\n",
    "    tweets_list = [[tweet.created_at, tweet.id, tweet.text] for tweet in tweets]\n",
    " \n",
    " # Creation of dataframe from tweets list\n",
    " # Add or remove columns as you remove tweet information\n",
    "    tweets_df = pd.DataFrame(tweets_list)\n",
    "except BaseException as e:\n",
    "    print('failed on_status,',str(e))\n",
    "    time.sleep(3)\n"
   ]
  },
  {
   "cell_type": "code",
   "execution_count": 14,
   "metadata": {
    "ExecuteTime": {
     "end_time": "2021-01-06T02:59:14.302274Z",
     "start_time": "2021-01-06T02:59:14.281326Z"
    }
   },
   "outputs": [
    {
     "data": {
      "text/html": [
       "<div>\n",
       "<style scoped>\n",
       "    .dataframe tbody tr th:only-of-type {\n",
       "        vertical-align: middle;\n",
       "    }\n",
       "\n",
       "    .dataframe tbody tr th {\n",
       "        vertical-align: top;\n",
       "    }\n",
       "\n",
       "    .dataframe thead th {\n",
       "        text-align: right;\n",
       "    }\n",
       "</style>\n",
       "<table border=\"1\" class=\"dataframe\">\n",
       "  <thead>\n",
       "    <tr style=\"text-align: right;\">\n",
       "      <th></th>\n",
       "      <th>0</th>\n",
       "      <th>1</th>\n",
       "      <th>2</th>\n",
       "    </tr>\n",
       "  </thead>\n",
       "  <tbody>\n",
       "    <tr>\n",
       "      <td>0</td>\n",
       "      <td>2021-01-06 02:11:33</td>\n",
       "      <td>1346640520005775360</td>\n",
       "      <td>@adcatt We do understand the frustration and w...</td>\n",
       "    </tr>\n",
       "    <tr>\n",
       "      <td>1</td>\n",
       "      <td>2021-01-06 01:57:10</td>\n",
       "      <td>1346636900178812934</td>\n",
       "      <td>@_kelaimani Hello, we know timing is important...</td>\n",
       "    </tr>\n",
       "    <tr>\n",
       "      <td>2</td>\n",
       "      <td>2021-01-06 01:56:11</td>\n",
       "      <td>1346636651817267210</td>\n",
       "      <td>@NatePetroelje That's absolutely bananas! Plea...</td>\n",
       "    </tr>\n",
       "    <tr>\n",
       "      <td>3</td>\n",
       "      <td>2021-01-06 01:49:33</td>\n",
       "      <td>1346634980420681728</td>\n",
       "      <td>@ZeroPaco00 Hi there, please send us a DM with...</td>\n",
       "    </tr>\n",
       "    <tr>\n",
       "      <td>4</td>\n",
       "      <td>2021-01-06 01:40:58</td>\n",
       "      <td>1346632820714860544</td>\n",
       "      <td>@adcatt We would be happy to look into this. P...</td>\n",
       "    </tr>\n",
       "    <tr>\n",
       "      <td>...</td>\n",
       "      <td>...</td>\n",
       "      <td>...</td>\n",
       "      <td>...</td>\n",
       "    </tr>\n",
       "    <tr>\n",
       "      <td>145</td>\n",
       "      <td>2021-01-04 12:43:20</td>\n",
       "      <td>1346074736690941952</td>\n",
       "      <td>@danyasteele Oh no! Lettuce🥬 take a look at th...</td>\n",
       "    </tr>\n",
       "    <tr>\n",
       "      <td>146</td>\n",
       "      <td>2021-01-04 12:31:40</td>\n",
       "      <td>1346071798597775362</td>\n",
       "      <td>@haesunshine Hi there! Thank you for reaching ...</td>\n",
       "    </tr>\n",
       "    <tr>\n",
       "      <td>147</td>\n",
       "      <td>2021-01-04 12:31:15</td>\n",
       "      <td>1346071694058905600</td>\n",
       "      <td>@iamellecrawford Hi there! Thank you for reach...</td>\n",
       "    </tr>\n",
       "    <tr>\n",
       "      <td>148</td>\n",
       "      <td>2021-01-04 12:25:55</td>\n",
       "      <td>1346070352720523265</td>\n",
       "      <td>@DriftwoodAsh Oh no! Lettuce🥬 take a look at t...</td>\n",
       "    </tr>\n",
       "    <tr>\n",
       "      <td>149</td>\n",
       "      <td>2021-01-04 12:22:38</td>\n",
       "      <td>1346069527172427777</td>\n",
       "      <td>@INIGO_M0NT0YA Hi there! Thank you for reachin...</td>\n",
       "    </tr>\n",
       "  </tbody>\n",
       "</table>\n",
       "<p>150 rows × 3 columns</p>\n",
       "</div>"
      ],
      "text/plain": [
       "                      0                    1  \\\n",
       "0   2021-01-06 02:11:33  1346640520005775360   \n",
       "1   2021-01-06 01:57:10  1346636900178812934   \n",
       "2   2021-01-06 01:56:11  1346636651817267210   \n",
       "3   2021-01-06 01:49:33  1346634980420681728   \n",
       "4   2021-01-06 01:40:58  1346632820714860544   \n",
       "..                  ...                  ...   \n",
       "145 2021-01-04 12:43:20  1346074736690941952   \n",
       "146 2021-01-04 12:31:40  1346071798597775362   \n",
       "147 2021-01-04 12:31:15  1346071694058905600   \n",
       "148 2021-01-04 12:25:55  1346070352720523265   \n",
       "149 2021-01-04 12:22:38  1346069527172427777   \n",
       "\n",
       "                                                     2  \n",
       "0    @adcatt We do understand the frustration and w...  \n",
       "1    @_kelaimani Hello, we know timing is important...  \n",
       "2    @NatePetroelje That's absolutely bananas! Plea...  \n",
       "3    @ZeroPaco00 Hi there, please send us a DM with...  \n",
       "4    @adcatt We would be happy to look into this. P...  \n",
       "..                                                 ...  \n",
       "145  @danyasteele Oh no! Lettuce🥬 take a look at th...  \n",
       "146  @haesunshine Hi there! Thank you for reaching ...  \n",
       "147  @iamellecrawford Hi there! Thank you for reach...  \n",
       "148  @DriftwoodAsh Oh no! Lettuce🥬 take a look at t...  \n",
       "149  @INIGO_M0NT0YA Hi there! Thank you for reachin...  \n",
       "\n",
       "[150 rows x 3 columns]"
      ]
     },
     "execution_count": 14,
     "metadata": {},
     "output_type": "execute_result"
    }
   ],
   "source": [
    "tweets_df"
   ]
  },
  {
   "cell_type": "code",
   "execution_count": 11,
   "metadata": {
    "ExecuteTime": {
     "end_time": "2021-01-06T02:29:31.067039Z",
     "start_time": "2021-01-06T02:29:26.466342Z"
    }
   },
   "outputs": [],
   "source": [
    "text_query = 'Doordash'\n",
    "count = 150\n",
    "try:\n",
    " # Creation of query method using parameters\n",
    "    tweets = tweepy.Cursor(api.search,q=text_query).items(count)\n",
    " \n",
    " # Pulling information from tweets iterable object\n",
    "    tweets_list_food_delivery = [[tweet.created_at, tweet.id, tweet.text] for tweet in tweets]\n",
    " \n",
    " # Creation of dataframe from tweets list\n",
    " # Add or remove columns as you remove tweet information\n",
    "    tweets_list_food_delivery = pd.DataFrame(tweets_list)\n",
    "except BaseException as e:\n",
    "    print('failed on_status,',str(e))\n",
    "    time.sleep(3)"
   ]
  },
  {
   "cell_type": "code",
   "execution_count": 12,
   "metadata": {
    "ExecuteTime": {
     "end_time": "2021-01-06T02:29:31.125182Z",
     "start_time": "2021-01-06T02:29:31.114589Z"
    }
   },
   "outputs": [
    {
     "data": {
      "text/html": [
       "<div>\n",
       "<style scoped>\n",
       "    .dataframe tbody tr th:only-of-type {\n",
       "        vertical-align: middle;\n",
       "    }\n",
       "\n",
       "    .dataframe tbody tr th {\n",
       "        vertical-align: top;\n",
       "    }\n",
       "\n",
       "    .dataframe thead th {\n",
       "        text-align: right;\n",
       "    }\n",
       "</style>\n",
       "<table border=\"1\" class=\"dataframe\">\n",
       "  <thead>\n",
       "    <tr style=\"text-align: right;\">\n",
       "      <th></th>\n",
       "      <th>0</th>\n",
       "      <th>1</th>\n",
       "      <th>2</th>\n",
       "    </tr>\n",
       "  </thead>\n",
       "  <tbody>\n",
       "    <tr>\n",
       "      <td>0</td>\n",
       "      <td>2021-01-06 02:28:35</td>\n",
       "      <td>1346644802591461377</td>\n",
       "      <td>RT @DailyCaller: A delivery driver on Long Isl...</td>\n",
       "    </tr>\n",
       "    <tr>\n",
       "      <td>1</td>\n",
       "      <td>2021-01-06 02:28:20</td>\n",
       "      <td>1346644741224595456</td>\n",
       "      <td>RT @davenewworld_2: Delivery driver on Long Is...</td>\n",
       "    </tr>\n",
       "    <tr>\n",
       "      <td>2</td>\n",
       "      <td>2021-01-06 02:27:54</td>\n",
       "      <td>1346644631761596418</td>\n",
       "      <td>RT @davenewworld_2: Delivery driver on Long Is...</td>\n",
       "    </tr>\n",
       "    <tr>\n",
       "      <td>3</td>\n",
       "      <td>2021-01-06 02:27:38</td>\n",
       "      <td>1346644565298716673</td>\n",
       "      <td>RT @davenewworld_2: Delivery driver on Long Is...</td>\n",
       "    </tr>\n",
       "    <tr>\n",
       "      <td>4</td>\n",
       "      <td>2021-01-06 02:27:35</td>\n",
       "      <td>1346644554368360449</td>\n",
       "      <td>RT @davenewworld_2: Delivery driver on Long Is...</td>\n",
       "    </tr>\n",
       "    <tr>\n",
       "      <td>...</td>\n",
       "      <td>...</td>\n",
       "      <td>...</td>\n",
       "      <td>...</td>\n",
       "    </tr>\n",
       "    <tr>\n",
       "      <td>145</td>\n",
       "      <td>2021-01-06 02:00:30</td>\n",
       "      <td>1346637736975986694</td>\n",
       "      <td>Tasteless Tuesday Ep2. Delivery Driver Takes B...</td>\n",
       "    </tr>\n",
       "    <tr>\n",
       "      <td>146</td>\n",
       "      <td>2021-01-06 02:00:21</td>\n",
       "      <td>1346637698996559872</td>\n",
       "      <td>It also means that food delivery apps don’t be...</td>\n",
       "    </tr>\n",
       "    <tr>\n",
       "      <td>147</td>\n",
       "      <td>2021-01-06 02:00:18</td>\n",
       "      <td>1346637685709012992</td>\n",
       "      <td>RT @davenewworld_2: Delivery driver on Long Is...</td>\n",
       "    </tr>\n",
       "    <tr>\n",
       "      <td>148</td>\n",
       "      <td>2021-01-06 02:00:15</td>\n",
       "      <td>1346637675772530689</td>\n",
       "      <td>1月6日（水）11:30～14:00（L.O.）\\nテイクアウトもデリバリーも！\\n栄養満点...</td>\n",
       "    </tr>\n",
       "    <tr>\n",
       "      <td>149</td>\n",
       "      <td>2021-01-06 02:00:10</td>\n",
       "      <td>1346637653891018753</td>\n",
       "      <td>RT @mcbasquiat: i’ve never ordered food via de...</td>\n",
       "    </tr>\n",
       "  </tbody>\n",
       "</table>\n",
       "<p>150 rows × 3 columns</p>\n",
       "</div>"
      ],
      "text/plain": [
       "                      0                    1  \\\n",
       "0   2021-01-06 02:28:35  1346644802591461377   \n",
       "1   2021-01-06 02:28:20  1346644741224595456   \n",
       "2   2021-01-06 02:27:54  1346644631761596418   \n",
       "3   2021-01-06 02:27:38  1346644565298716673   \n",
       "4   2021-01-06 02:27:35  1346644554368360449   \n",
       "..                  ...                  ...   \n",
       "145 2021-01-06 02:00:30  1346637736975986694   \n",
       "146 2021-01-06 02:00:21  1346637698996559872   \n",
       "147 2021-01-06 02:00:18  1346637685709012992   \n",
       "148 2021-01-06 02:00:15  1346637675772530689   \n",
       "149 2021-01-06 02:00:10  1346637653891018753   \n",
       "\n",
       "                                                     2  \n",
       "0    RT @DailyCaller: A delivery driver on Long Isl...  \n",
       "1    RT @davenewworld_2: Delivery driver on Long Is...  \n",
       "2    RT @davenewworld_2: Delivery driver on Long Is...  \n",
       "3    RT @davenewworld_2: Delivery driver on Long Is...  \n",
       "4    RT @davenewworld_2: Delivery driver on Long Is...  \n",
       "..                                                 ...  \n",
       "145  Tasteless Tuesday Ep2. Delivery Driver Takes B...  \n",
       "146  It also means that food delivery apps don’t be...  \n",
       "147  RT @davenewworld_2: Delivery driver on Long Is...  \n",
       "148  1月6日（水）11:30～14:00（L.O.）\\nテイクアウトもデリバリーも！\\n栄養満点...  \n",
       "149  RT @mcbasquiat: i’ve never ordered food via de...  \n",
       "\n",
       "[150 rows x 3 columns]"
      ]
     },
     "execution_count": 12,
     "metadata": {},
     "output_type": "execute_result"
    }
   ],
   "source": [
    "tweets_list_food_delivery"
   ]
  },
  {
   "cell_type": "code",
   "execution_count": null,
   "metadata": {},
   "outputs": [],
   "source": []
  }
 ],
 "metadata": {
  "kernelspec": {
   "display_name": "Python 3",
   "language": "python",
   "name": "python3"
  },
  "language_info": {
   "codemirror_mode": {
    "name": "ipython",
    "version": 3
   },
   "file_extension": ".py",
   "mimetype": "text/x-python",
   "name": "python",
   "nbconvert_exporter": "python",
   "pygments_lexer": "ipython3",
   "version": "3.7.4"
  },
  "toc": {
   "base_numbering": 1,
   "nav_menu": {},
   "number_sections": true,
   "sideBar": true,
   "skip_h1_title": false,
   "title_cell": "Table of Contents",
   "title_sidebar": "Contents",
   "toc_cell": false,
   "toc_position": {},
   "toc_section_display": true,
   "toc_window_display": false
  },
  "varInspector": {
   "cols": {
    "lenName": 16,
    "lenType": 16,
    "lenVar": 40
   },
   "kernels_config": {
    "python": {
     "delete_cmd_postfix": "",
     "delete_cmd_prefix": "del ",
     "library": "var_list.py",
     "varRefreshCmd": "print(var_dic_list())"
    },
    "r": {
     "delete_cmd_postfix": ") ",
     "delete_cmd_prefix": "rm(",
     "library": "var_list.r",
     "varRefreshCmd": "cat(var_dic_list()) "
    }
   },
   "types_to_exclude": [
    "module",
    "function",
    "builtin_function_or_method",
    "instance",
    "_Feature"
   ],
   "window_display": true
  }
 },
 "nbformat": 4,
 "nbformat_minor": 2
}
